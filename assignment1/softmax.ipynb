{
 "cells": [
  {
   "cell_type": "markdown",
   "metadata": {},
   "source": [
    "# Softmax exercise\n",
    "\n",
    "*Complete and hand in this completed worksheet (including its outputs and any supporting code outside of the worksheet) with your assignment submission. For more details see the [assignments page](http://vision.stanford.edu/teaching/cs231n/assignments.html) on the course website.*\n",
    "\n",
    "This exercise is analogous to the SVM exercise. You will:\n",
    "\n",
    "- implement a fully-vectorized **loss function** for the Softmax classifier\n",
    "- implement the fully-vectorized expression for its **analytic gradient**\n",
    "- **check your implementation** with numerical gradient\n",
    "- use a validation set to **tune the learning rate and regularization** strength\n",
    "- **optimize** the loss function with **SGD**\n",
    "- **visualize** the final learned weights\n"
   ]
  },
  {
   "cell_type": "code",
   "execution_count": 1,
   "metadata": {
    "collapsed": false
   },
   "outputs": [],
   "source": [
    "import random\n",
    "import numpy as np\n",
    "from cs231n.data_utils import load_CIFAR10\n",
    "import matplotlib.pyplot as plt\n",
    "\n",
    "from __future__ import print_function\n",
    "\n",
    "%matplotlib inline\n",
    "plt.rcParams['figure.figsize'] = (10.0, 8.0) # set default size of plots\n",
    "plt.rcParams['image.interpolation'] = 'nearest'\n",
    "plt.rcParams['image.cmap'] = 'gray'\n",
    "\n",
    "# for auto-reloading extenrnal modules\n",
    "# see http://stackoverflow.com/questions/1907993/autoreload-of-modules-in-ipython\n",
    "%load_ext autoreload\n",
    "%autoreload 2"
   ]
  },
  {
   "cell_type": "code",
   "execution_count": 2,
   "metadata": {
    "collapsed": false
   },
   "outputs": [
    {
     "name": "stdout",
     "output_type": "stream",
     "text": [
      "Train data shape:  (49000, 3073)\n",
      "Train labels shape:  (49000,)\n",
      "Validation data shape:  (1000, 3073)\n",
      "Validation labels shape:  (1000,)\n",
      "Test data shape:  (1000, 3073)\n",
      "Test labels shape:  (1000,)\n",
      "dev data shape:  (500, 3073)\n",
      "dev labels shape:  (500,)\n"
     ]
    }
   ],
   "source": [
    "def get_CIFAR10_data(num_training=49000, num_validation=1000, num_test=1000, num_dev=500):\n",
    "    \"\"\"\n",
    "    Load the CIFAR-10 dataset from disk and perform preprocessing to prepare\n",
    "    it for the linear classifier. These are the same steps as we used for the\n",
    "    SVM, but condensed to a single function.  \n",
    "    \"\"\"\n",
    "    # Load the raw CIFAR-10 data\n",
    "    cifar10_dir = 'cs231n/datasets/cifar-10-batches-py'\n",
    "    X_train, y_train, X_test, y_test = load_CIFAR10(cifar10_dir)\n",
    "    \n",
    "    # subsample the data\n",
    "    mask = list(range(num_training, num_training + num_validation))\n",
    "    X_val = X_train[mask]\n",
    "    y_val = y_train[mask]\n",
    "    mask = list(range(num_training))\n",
    "    X_train = X_train[mask]\n",
    "    y_train = y_train[mask]\n",
    "    mask = list(range(num_test))\n",
    "    X_test = X_test[mask]\n",
    "    y_test = y_test[mask]\n",
    "    mask = np.random.choice(num_training, num_dev, replace=False)\n",
    "    X_dev = X_train[mask]\n",
    "    y_dev = y_train[mask]\n",
    "    \n",
    "    # Preprocessing: reshape the image data into rows\n",
    "    X_train = np.reshape(X_train, (X_train.shape[0], -1))\n",
    "    X_val = np.reshape(X_val, (X_val.shape[0], -1))\n",
    "    X_test = np.reshape(X_test, (X_test.shape[0], -1))\n",
    "    X_dev = np.reshape(X_dev, (X_dev.shape[0], -1))\n",
    "    \n",
    "    # Normalize the data: subtract the mean image\n",
    "    mean_image = np.mean(X_train, axis = 0)\n",
    "    X_train -= mean_image\n",
    "    X_val -= mean_image\n",
    "    X_test -= mean_image\n",
    "    X_dev -= mean_image\n",
    "    \n",
    "    # add bias dimension and transform into columns\n",
    "    X_train = np.hstack([X_train, np.ones((X_train.shape[0], 1))])\n",
    "    X_val = np.hstack([X_val, np.ones((X_val.shape[0], 1))])\n",
    "    X_test = np.hstack([X_test, np.ones((X_test.shape[0], 1))])\n",
    "    X_dev = np.hstack([X_dev, np.ones((X_dev.shape[0], 1))])\n",
    "    \n",
    "    return X_train, y_train, X_val, y_val, X_test, y_test, X_dev, y_dev\n",
    "\n",
    "\n",
    "# Invoke the above function to get our data.\n",
    "X_train, y_train, X_val, y_val, X_test, y_test, X_dev, y_dev = get_CIFAR10_data()\n",
    "print('Train data shape: ', X_train.shape)\n",
    "print('Train labels shape: ', y_train.shape)\n",
    "print('Validation data shape: ', X_val.shape)\n",
    "print('Validation labels shape: ', y_val.shape)\n",
    "print('Test data shape: ', X_test.shape)\n",
    "print('Test labels shape: ', y_test.shape)\n",
    "print('dev data shape: ', X_dev.shape)\n",
    "print('dev labels shape: ', y_dev.shape)"
   ]
  },
  {
   "cell_type": "markdown",
   "metadata": {},
   "source": [
    "## Softmax Classifier\n",
    "\n",
    "Your code for this section will all be written inside **cs231n/classifiers/softmax.py**. \n"
   ]
  },
  {
   "cell_type": "code",
   "execution_count": 31,
   "metadata": {
    "collapsed": false
   },
   "outputs": [
    {
     "name": "stdout",
     "output_type": "stream",
     "text": [
      "loss: 2.373003\n",
      "sanity check: 2.302585\n"
     ]
    }
   ],
   "source": [
    "# First implement the naive softmax loss function with nested loops.\n",
    "# Open the file cs231n/classifiers/softmax.py and implement the\n",
    "# softmax_loss_naive function.\n",
    "\n",
    "from cs231n.classifiers.softmax import softmax_loss_naive\n",
    "import time\n",
    "\n",
    "# Generate a random softmax weight matrix and use it to compute the loss.\n",
    "W = np.random.randn(3073, 10) * 0.0001\n",
    "loss, grad = softmax_loss_naive(W, X_dev, y_dev, 0.0)\n",
    "\n",
    "# As a rough sanity check, our loss should be something close to -log(0.1).\n",
    "print('loss: %f' % loss)\n",
    "print('sanity check: %f' % (-np.log(0.1)))"
   ]
  },
  {
   "cell_type": "markdown",
   "metadata": {},
   "source": [
    "## Inline Question 1:\n",
    "Why do we expect our loss to be close to -log(0.1)? Explain briefly.**\n",
    "\n",
    "**Your answer:** *Fill this in*\n"
   ]
  },
  {
   "cell_type": "code",
   "execution_count": 32,
   "metadata": {
    "collapsed": false
   },
   "outputs": [
    {
     "name": "stdout",
     "output_type": "stream",
     "text": [
      "numerical: -2.632612 analytic: -2.632612, relative error: 1.442458e-09\n",
      "numerical: 0.332096 analytic: 0.332096, relative error: 6.510503e-08\n",
      "numerical: -2.973513 analytic: -2.973513, relative error: 1.045611e-08\n",
      "numerical: 0.150323 analytic: 0.150323, relative error: 6.700865e-08\n",
      "numerical: -1.207583 analytic: -1.207583, relative error: 1.425016e-08\n",
      "numerical: 1.179986 analytic: 1.179986, relative error: 1.304283e-08\n",
      "numerical: 5.133099 analytic: 5.133099, relative error: 7.469337e-09\n",
      "numerical: 0.549502 analytic: 0.549502, relative error: 4.522896e-10\n",
      "numerical: -4.675290 analytic: -4.675290, relative error: 1.710769e-09\n",
      "numerical: -0.263622 analytic: -0.263622, relative error: 5.262522e-08\n",
      "numerical: 1.166657 analytic: 1.166657, relative error: 1.959579e-08\n",
      "numerical: 1.168515 analytic: 1.168515, relative error: 7.786343e-09\n",
      "numerical: -0.081474 analytic: -0.081474, relative error: 1.167332e-08\n",
      "numerical: 0.432656 analytic: 0.432656, relative error: 9.790118e-08\n",
      "numerical: -3.305547 analytic: -3.305548, relative error: 2.075457e-08\n",
      "numerical: 2.443017 analytic: 2.443017, relative error: 2.031570e-08\n",
      "numerical: -2.179839 analytic: -2.179839, relative error: 1.478041e-08\n",
      "numerical: -1.583506 analytic: -1.583506, relative error: 3.169155e-08\n",
      "numerical: 0.061351 analytic: 0.061351, relative error: 1.160553e-07\n",
      "numerical: -0.853399 analytic: -0.853400, relative error: 4.621826e-08\n"
     ]
    }
   ],
   "source": [
    "# Complete the implementation of softmax_loss_naive and implement a (naive)\n",
    "# version of the gradient that uses nested loops.\n",
    "loss, grad = softmax_loss_naive(W, X_dev, y_dev, 0.0)\n",
    "\n",
    "# As we did for the SVM, use numeric gradient checking as a debugging tool.\n",
    "# The numeric gradient should be close to the analytic gradient.\n",
    "from cs231n.gradient_check import grad_check_sparse\n",
    "f = lambda w: softmax_loss_naive(w, X_dev, y_dev, 0.0)[0]\n",
    "grad_numerical = grad_check_sparse(f, W, grad, 10)\n",
    "\n",
    "# similar to SVM case, do another gradient check with regularization\n",
    "loss, grad = softmax_loss_naive(W, X_dev, y_dev, 5e1)\n",
    "f = lambda w: softmax_loss_naive(w, X_dev, y_dev, 5e1)[0]\n",
    "grad_numerical = grad_check_sparse(f, W, grad, 10)"
   ]
  },
  {
   "cell_type": "code",
   "execution_count": 110,
   "metadata": {
    "collapsed": false,
    "scrolled": false
   },
   "outputs": [
    {
     "name": "stdout",
     "output_type": "stream",
     "text": [
      "naive loss: 2.373003e+00 computed in 0.124771s\n",
      "vectorized loss: 2.373003e+00 computed in 0.011381s\n",
      "Loss difference: 0.000000\n",
      "Gradient difference: 0.000000\n"
     ]
    }
   ],
   "source": [
    "# Now that we have a naive implementation of the softmax loss function and its gradient,\n",
    "# implement a vectorized version in softmax_loss_vectorized.\n",
    "# The two versions should compute the same results, but the vectorized version should be\n",
    "# much faster.\n",
    "tic = time.time()\n",
    "loss_naive, grad_naive = softmax_loss_naive(W, X_dev, y_dev, 0.000005)\n",
    "toc = time.time()\n",
    "print('naive loss: %e computed in %fs' % (loss_naive, toc - tic))\n",
    "\n",
    "from cs231n.classifiers.softmax import softmax_loss_vectorized\n",
    "tic = time.time()\n",
    "loss_vectorized, grad_vectorized = softmax_loss_vectorized(W, X_dev, y_dev, 0.000005)\n",
    "toc = time.time()\n",
    "print('vectorized loss: %e computed in %fs' % (loss_vectorized, toc - tic))\n",
    "\n",
    "# As we did for the SVM, we use the Frobenius norm to compare the two versions\n",
    "# of the gradient.\n",
    "grad_difference = np.linalg.norm(grad_naive - grad_vectorized, ord='fro')\n",
    "print('Loss difference: %f' % np.abs(loss_naive - loss_vectorized))\n",
    "print('Gradient difference: %f' % grad_difference)"
   ]
  },
  {
   "cell_type": "code",
   "execution_count": 112,
   "metadata": {
    "collapsed": false,
    "scrolled": true
   },
   "outputs": [
    {
     "name": "stdout",
     "output_type": "stream",
     "text": [
      "-----------------------------\n",
      "Current alpha: 0.000000, beta: 1000.000000\n",
      "-----------------------------\n",
      "Current alpha: 0.000000, beta: 80000.000000\n",
      "-----------------------------\n",
      "Current alpha: 0.000000, beta: 25000.000000\n",
      "-----------------------------\n",
      "Current alpha: 0.000000, beta: 50000.000000\n",
      "-----------------------------\n",
      "Current alpha: 0.000000, beta: 80000.000000\n",
      "-----------------------------\n",
      "Current alpha: 0.000001, beta: 1000.000000\n",
      "-----------------------------\n",
      "Current alpha: 0.000001, beta: 80000.000000\n",
      "-----------------------------\n",
      "Current alpha: 0.000001, beta: 25000.000000\n",
      "-----------------------------\n",
      "Current alpha: 0.000001, beta: 50000.000000\n",
      "-----------------------------\n",
      "Current alpha: 0.000001, beta: 80000.000000\n",
      "-----------------------------\n",
      "Current alpha: 0.000010, beta: 1000.000000\n",
      "-----------------------------\n",
      "Current alpha: 0.000010, beta: 80000.000000\n",
      "-----------------------------\n",
      "Current alpha: 0.000010, beta: 25000.000000\n",
      "-----------------------------\n",
      "Current alpha: 0.000010, beta: 50000.000000\n",
      "-----------------------------\n",
      "Current alpha: 0.000010, beta: 80000.000000\n",
      "-----------------------------\n",
      "Current alpha: 0.000100, beta: 1000.000000\n",
      "-----------------------------\n",
      "Current alpha: 0.000100, beta: 80000.000000\n",
      "-----------------------------\n",
      "Current alpha: 0.000100, beta: 25000.000000\n",
      "-----------------------------\n",
      "Current alpha: 0.000100, beta: 50000.000000\n",
      "-----------------------------\n",
      "Current alpha: 0.000100, beta: 80000.000000\n",
      "-----------------------------\n",
      "Current alpha: 0.001000, beta: 1000.000000\n",
      "-----------------------------\n",
      "Current alpha: 0.001000, beta: 80000.000000\n",
      "-----------------------------\n",
      "Current alpha: 0.001000, beta: 25000.000000\n",
      "-----------------------------\n",
      "Current alpha: 0.001000, beta: 50000.000000\n",
      "-----------------------------\n",
      "Current alpha: 0.001000, beta: 80000.000000\n",
      "lr 1.000000e-07 reg 1.000000e+03 train accuracy: 0.267122 val accuracy: 0.262000\n",
      "lr 1.000000e-07 reg 2.500000e+04 train accuracy: 0.329980 val accuracy: 0.350000\n",
      "lr 1.000000e-07 reg 5.000000e+04 train accuracy: 0.305571 val accuracy: 0.325000\n",
      "lr 1.000000e-07 reg 8.000000e+04 train accuracy: 0.287918 val accuracy: 0.307000\n",
      "lr 1.000000e-06 reg 1.000000e+03 train accuracy: 0.401367 val accuracy: 0.409000\n",
      "lr 1.000000e-06 reg 2.500000e+04 train accuracy: 0.314224 val accuracy: 0.319000\n",
      "lr 1.000000e-06 reg 5.000000e+04 train accuracy: 0.307020 val accuracy: 0.315000\n",
      "lr 1.000000e-06 reg 8.000000e+04 train accuracy: 0.280061 val accuracy: 0.278000\n",
      "lr 1.000000e-05 reg 1.000000e+03 train accuracy: 0.285939 val accuracy: 0.302000\n",
      "lr 1.000000e-05 reg 2.500000e+04 train accuracy: 0.145224 val accuracy: 0.134000\n",
      "lr 1.000000e-05 reg 5.000000e+04 train accuracy: 0.108122 val accuracy: 0.138000\n",
      "lr 1.000000e-05 reg 8.000000e+04 train accuracy: 0.080000 val accuracy: 0.081000\n",
      "lr 1.000000e-04 reg 1.000000e+03 train accuracy: 0.146102 val accuracy: 0.147000\n",
      "lr 1.000000e-04 reg 2.500000e+04 train accuracy: 0.100265 val accuracy: 0.087000\n",
      "lr 1.000000e-04 reg 5.000000e+04 train accuracy: 0.100265 val accuracy: 0.087000\n",
      "lr 1.000000e-04 reg 8.000000e+04 train accuracy: 0.100265 val accuracy: 0.087000\n",
      "lr 1.000000e-03 reg 1.000000e+03 train accuracy: 0.100265 val accuracy: 0.087000\n",
      "lr 1.000000e-03 reg 2.500000e+04 train accuracy: 0.100265 val accuracy: 0.087000\n",
      "lr 1.000000e-03 reg 5.000000e+04 train accuracy: 0.100265 val accuracy: 0.087000\n",
      "lr 1.000000e-03 reg 8.000000e+04 train accuracy: 0.100265 val accuracy: 0.087000\n",
      "best validation accuracy achieved during cross-validation: 0.409000\n"
     ]
    },
    {
     "name": "stderr",
     "output_type": "stream",
     "text": [
      "/home/nan/StanfordCS231/assignment1/cs231n/classifiers/softmax.py:82: RuntimeWarning: overflow encountered in exp\n",
      "  denoms=np.sum(np.exp(scores), axis=1)\n",
      "/home/nan/StanfordCS231/assignment1/cs231n/classifiers/softmax.py:83: RuntimeWarning: overflow encountered in exp\n",
      "  temp=np.exp(scores_y)/denoms\n",
      "/home/nan/StanfordCS231/assignment1/cs231n/classifiers/softmax.py:83: RuntimeWarning: invalid value encountered in true_divide\n",
      "  temp=np.exp(scores_y)/denoms\n",
      "/home/nan/StanfordCS231/assignment1/cs231n/classifiers/softmax.py:84: RuntimeWarning: divide by zero encountered in log\n",
      "  loss = np.sum(-np.log(temp))\n",
      "/home/nan/StanfordCS231/assignment1/cs231n/classifiers/softmax.py:85: RuntimeWarning: overflow encountered in exp\n",
      "  temp=np.exp(scores)\n",
      "/home/nan/StanfordCS231/assignment1/cs231n/classifiers/softmax.py:86: RuntimeWarning: invalid value encountered in true_divide\n",
      "  temp[np.arange(num_train),y]-=1\n"
     ]
    }
   ],
   "source": [
    "# Use the validation set to tune hyperparameters (regularization strength and\n",
    "# learning rate). You should experiment with different ranges for the learning\n",
    "# rates and regularization strengths; if you are careful you should be able to\n",
    "# get a classification accuracy of over 0.35 on the validation set.\n",
    "from cs231n.classifiers import Softmax\n",
    "results = {}\n",
    "best_val = -1\n",
    "best_softmax = None\n",
    "learning_rates = [1e-7,1e-6,1e-5, 1e-4, 1e-3]\n",
    "regularization_strengths = [1e3,8e4, 2.5e4, 5e4, 8e4]\n",
    "\n",
    "################################################################################\n",
    "# TODO:                                                                        #\n",
    "# Use the validation set to set the learning rate and regularization strength. #\n",
    "# This should be identical to the validation that you did for the SVM; save    #\n",
    "# the best trained softmax classifer in best_softmax.                          #\n",
    "################################################################################\n",
    "for alpha_ in learning_rates:\n",
    "    for beta_ in regularization_strengths:\n",
    "        print('-----------------------------')\n",
    "        print('Current alpha: %f, beta: %f' % (alpha_, beta_))\n",
    "        softmax = Softmax()\n",
    "        loss_hist = softmax.train(X_train, y_train, learning_rate=alpha_, reg=beta_,\n",
    "                      num_iters=1500, verbose=False)\n",
    "        y_val_pred = softmax.predict(X_val)\n",
    "        val_pred_acc = np.mean(y_val_pred == y_val)\n",
    "        y_train_pred = softmax.predict(X_train)\n",
    "        train_pred_acc = np.mean(y_train_pred == y_train)\n",
    "        results[(alpha_,beta_)]=(train_pred_acc, val_pred_acc)\n",
    "        if val_pred_acc > best_val:\n",
    "            best_val=val_pred_acc\n",
    "            best_softmax=softmax\n",
    "        \n",
    "##softmax###########################################################################\n",
    "#                              END OF YOUR CODE                                #\n",
    "####softmax#########################################################################\n",
    "    \n",
    "# Print out results.\n",
    "for lr, reg in sorted(results):\n",
    "    train_accuracy, val_accuracy = results[(lr, reg)]\n",
    "    print('lr %e reg %e train accuracy: %f val accuracy: %f' % (\n",
    "                lr, reg, train_accuracy, val_accuracy))\n",
    "    \n",
    "print('best validation accuracy achieved during cross-validation: %f' % best_val)"
   ]
  },
  {
   "cell_type": "code",
   "execution_count": 113,
   "metadata": {
    "collapsed": false
   },
   "outputs": [
    {
     "name": "stdout",
     "output_type": "stream",
     "text": [
      "softmax on raw pixels final test set accuracy: 0.390000\n"
     ]
    }
   ],
   "source": [
    "# evaluate on test set\n",
    "# Evaluate the best softmax on test set\n",
    "y_test_pred = best_softmax.predict(X_test)\n",
    "test_accuracy = np.mean(y_test == y_test_pred)\n",
    "print('softmax on raw pixels final test set accuracy: %f' % (test_accuracy, ))"
   ]
  },
  {
   "cell_type": "code",
   "execution_count": 114,
   "metadata": {
    "collapsed": false
   },
   "outputs": [
    {
     "data": {
      "image/png": "[encoded data removed]",
      "text/plain": [
       "<matplotlib.figure.Figure at 0x7fcaa11e6dd8>"
      ]
     },
     "metadata": {},
     "output_type": "display_data"
    }
   ],
   "source": [
    "# Visualize the learned weights for each class\n",
    "w = best_softmax.W[:-1,:] # strip out the bias\n",
    "w = w.reshape(32, 32, 3, 10)\n",
    "\n",
    "w_min, w_max = np.min(w), np.max(w)\n",
    "\n",
    "classes = ['plane', 'car', 'bird', 'cat', 'deer', 'dog', 'frog', 'horse', 'ship', 'truck']\n",
    "for i in range(10):\n",
    "    plt.subplot(2, 5, i + 1)\n",
    "    \n",
    "    # Rescale the weights to be between 0 and 255\n",
    "    wimg = 255.0 * (w[:, :, :, i].squeeze() - w_min) / (w_max - w_min)\n",
    "    plt.imshow(wimg.astype('uint8'))\n",
    "    plt.axis('off')\n",
    "    plt.title(classes[i])"
   ]
  },
  {
   "cell_type": "code",
   "execution_count": null,
   "metadata": {
    "collapsed": true
   },
   "outputs": [],
   "source": []
  }
 ],
 "metadata": {
  "kernelspec": {
   "display_name": "Python 3",
   "language": "python",
   "name": "python3"
  },
  "language_info": {
   "codemirror_mode": {
    "name": "ipython",
    "version": 3
   },
   "file_extension": ".py",
   "mimetype": "text/x-python",
   "name": "python",
   "nbconvert_exporter": "python",
   "pygments_lexer": "ipython3",
   "version": "3.5.2"
  }
 },
 "nbformat": 4,
 "nbformat_minor": 0
}
